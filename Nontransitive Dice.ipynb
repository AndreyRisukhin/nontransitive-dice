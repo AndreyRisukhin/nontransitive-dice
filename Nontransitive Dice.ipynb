{
 "cells": [
  {
   "cell_type": "markdown",
   "metadata": {},
   "source": [
    "# Nontransitive Dice\n",
    "\n",
    "Describe nontransitive dice here (https://singingbanana.com/dice/article.htm)"
   ]
  },
  {
   "cell_type": "markdown",
   "metadata": {},
   "source": [
    "### Imports"
   ]
  },
  {
   "cell_type": "code",
   "execution_count": 2,
   "metadata": {},
   "outputs": [],
   "source": [
    "import numpy as np"
   ]
  },
  {
   "cell_type": "code",
   "execution_count": 3,
   "metadata": {},
   "outputs": [],
   "source": [
    "import random as r"
   ]
  },
  {
   "cell_type": "markdown",
   "metadata": {},
   "source": [
    "# 1. Initialize Dice\n",
    "\n",
    "Create the dice used in the simulation here. Represent them as arrays. "
   ]
  },
  {
   "cell_type": "code",
   "execution_count": 4,
   "metadata": {},
   "outputs": [],
   "source": [
    "red = [4, 4, 4, 4, 4, 9]\n",
    "blue = [2, 2, 2, 7, 7, 7]\n",
    "olive = [0, 5, 5, 5, 5, 5]\n",
    "yellow = [3, 3, 3, 3, 8, 8]\n",
    "magenta = [1, 1, 6, 6, 6, 6]"
   ]
  },
  {
   "cell_type": "code",
   "execution_count": 5,
   "metadata": {},
   "outputs": [],
   "source": [
    "grime_dice = [red, blue, olive, yellow, magenta]"
   ]
  },
  {
   "cell_type": "code",
   "execution_count": 6,
   "metadata": {},
   "outputs": [],
   "source": [
    "grime_names = ['red', 'blue', 'olive', 'yellow', 'magenta']"
   ]
  },
  {
   "cell_type": "code",
   "execution_count": 7,
   "metadata": {},
   "outputs": [],
   "source": [
    "cycle_alphabetical = ['blue', 'magenta', 'olive', 'red', 'yellow']\n",
    "cycle_length = ['red', 'blue', 'olive', 'yellow', 'magenta']\n",
    "cycle_rev_length = ['red', 'magenta', 'yellow', 'olive', 'blue']"
   ]
  },
  {
   "cell_type": "code",
   "execution_count": 50,
   "metadata": {},
   "outputs": [],
   "source": [
    "GRIME_DICE_FACES = 6"
   ]
  },
  {
   "cell_type": "markdown",
   "metadata": {},
   "source": [
    "# 2. Calculate Expected Probabilities"
   ]
  },
  {
   "cell_type": "markdown",
   "metadata": {},
   "source": [
    "`prob_win(a,b)`: a method returning the probability dice a wins against dice b, where dice are represented as arrays.\n",
    "\n",
    "Creates a 2D array of wins for `a`: the rows are the values dice `a` contains, the columns are the values dice `b` contains. The entries are `1` if `a` wins the interaction, `0` if `b` wins the roll.\n",
    "\n",
    "Sum the entries and divide by `36` possibilities to determine probability of winning.\n",
    "\n",
    "The set of Grime Dice can not tie, each dice has two values on its faces not shared by the others."
   ]
  },
  {
   "cell_type": "code",
   "execution_count": 8,
   "metadata": {},
   "outputs": [],
   "source": [
    "def prob_win(a,b): # Two fair dice, a and b\n",
    "    \n",
    "    len_a = len(a)\n",
    "    len_b = len(b)\n",
    "    \n",
    "    win_matrix = np.zeros((len_a,len_b)) # (a = 6, b = 6)\n",
    "    \n",
    "    for i in range(len_a): # for each face of a\n",
    "        for j in range(len_b): # for each face of b\n",
    "            if (a[i] > b[j]): # These will only be < or >, never =\n",
    "                win_matrix[i][j] = 1\n",
    "    \n",
    "#     print(win_matrix)\n",
    "    \n",
    "    return win_matrix.sum()/36"
   ]
  },
  {
   "cell_type": "code",
   "execution_count": 9,
   "metadata": {},
   "outputs": [
    {
     "data": {
      "text/plain": [
       "0.5833333333333334"
      ]
     },
     "execution_count": 9,
     "metadata": {},
     "output_type": "execute_result"
    }
   ],
   "source": [
    "(prob_win(red, blue))"
   ]
  },
  {
   "cell_type": "markdown",
   "metadata": {},
   "source": [
    "Output all theoretical probabilities of winning for all combinations"
   ]
  },
  {
   "cell_type": "code",
   "execution_count": 10,
   "metadata": {
    "scrolled": true
   },
   "outputs": [
    {
     "name": "stdout",
     "output_type": "stream",
     "text": [
      "red beats blue: 0.5833333333333334\n",
      "red beats olive: 0.3055555555555556\n",
      "red beats yellow: 0.7222222222222222\n",
      "red beats magenta: 0.4444444444444444\n",
      "blue beats olive: 0.5833333333333334\n",
      "blue beats yellow: 0.3333333333333333\n",
      "blue beats magenta: 0.6666666666666666\n",
      "olive beats yellow: 0.5555555555555556\n",
      "olive beats magenta: 0.2777777777777778\n",
      "yellow beats magenta: 0.5555555555555556\n"
     ]
    }
   ],
   "source": [
    "for i in range(len(grime_dice)):\n",
    "    for j in range(len(grime_dice)):\n",
    "        if (i < j):\n",
    "            print(f'{grime_names[i]} beats {grime_names[j]}: {prob_win(grime_dice[i], grime_dice[j])}')"
   ]
  },
  {
   "cell_type": "markdown",
   "metadata": {},
   "source": [
    "# 3. Simulation Results"
   ]
  },
  {
   "cell_type": "code",
   "execution_count": 11,
   "metadata": {},
   "outputs": [],
   "source": [
    "def simulate_roll(a,b, T):\n",
    "    scores = np.zeros(TRIALS)\n",
    "            \n",
    "    for n in range(T):\n",
    "        roll_a = r.randrange(start=0, stop=6, step=1)\n",
    "        roll_b = r.randrange(start=0, stop=6, step=1)\n",
    "\n",
    "        face_a = a[roll_a]\n",
    "        face_b = b[roll_b]\n",
    "\n",
    "        if (face_a > face_b):            \n",
    "            scores[n] = 1\n",
    "\n",
    "    return scores.sum() / T    "
   ]
  },
  {
   "cell_type": "code",
   "execution_count": 12,
   "metadata": {},
   "outputs": [
    {
     "name": "stdout",
     "output_type": "stream",
     "text": [
      "red beats blue: 0.5555555555555556\n",
      "red beats olive: 0.5555555555555556\n",
      "red beats yellow: 0.8888888888888888\n",
      "red beats magenta: 0.6666666666666666\n",
      "blue beats olive: 0.4444444444444444\n",
      "blue beats yellow: 0.4444444444444444\n",
      "blue beats magenta: 0.8888888888888888\n",
      "olive beats yellow: 0.5555555555555556\n",
      "olive beats magenta: 0.1111111111111111\n",
      "yellow beats magenta: 0.3333333333333333\n"
     ]
    }
   ],
   "source": [
    "TRIALS = 9\n",
    "\n",
    "for i in range(len(grime_dice)):\n",
    "    for j in range(len(grime_dice)):\n",
    "        if (i < j):\n",
    "            win_percent = simulate_roll(grime_dice[i], grime_dice[j], TRIALS)\n",
    "\n",
    "            print(f'{grime_names[i]} beats {grime_names[j]}: {win_percent}')"
   ]
  },
  {
   "cell_type": "markdown",
   "metadata": {},
   "source": [
    "# 4. Intelligent Dice Selection"
   ]
  },
  {
   "cell_type": "code",
   "execution_count": 55,
   "metadata": {},
   "outputs": [],
   "source": [
    "def build_best_1v1_array(dice_list):\n",
    "    \n",
    "    best_1v1_indexes = np.empty(len(dice_list))\n",
    "    \n",
    "    for i in range(len(dice_list)): # For each dice\n",
    "        \n",
    "        # Keep track of the probability of winning with dice j against dice i, = min probability\n",
    "        prob_list = np.ones(len(dice_list[i]))\n",
    "        \n",
    "        for j in range(len(dice_list)): # Now, for each pair of dice\n",
    "            # Calculate probility of winning against each other dice\n",
    "            if (i != j):\n",
    "                prob_list[j] = prob_win(grime_dice[i],grime_dice[j])\n",
    "        \n",
    "        # Locate index of minimum probability\n",
    "        mindex = np.argmin(prob_list)\n",
    "        \n",
    "        # Add the corresponding dice to the best 1v1 matrix\n",
    "        best_1v1_indexes[i] = mindex\n",
    "        \n",
    "    return best_1v1_indexes.astype(int)"
   ]
  },
  {
   "cell_type": "code",
   "execution_count": 56,
   "metadata": {},
   "outputs": [
    {
     "name": "stdout",
     "output_type": "stream",
     "text": [
      "6\n"
     ]
    }
   ],
   "source": [
    "print(len(grime_dice[0]))"
   ]
  },
  {
   "cell_type": "code",
   "execution_count": 57,
   "metadata": {
    "scrolled": true
   },
   "outputs": [
    {
     "name": "stdout",
     "output_type": "stream",
     "text": [
      "[2 3 4 0 1]\n"
     ]
    }
   ],
   "source": [
    "winning_dice_1v1 = build_best_1v1_array(grime_dice)\n",
    "print(winning_dice_1v1)"
   ]
  },
  {
   "cell_type": "code",
   "execution_count": 60,
   "metadata": {
    "scrolled": true
   },
   "outputs": [
    {
     "name": "stdout",
     "output_type": "stream",
     "text": [
      "olive\n",
      "yellow\n",
      "magenta\n",
      "red\n",
      "blue\n"
     ]
    }
   ],
   "source": [
    "for i in range(len(winning_dice_1v1)):\n",
    "    print(grime_names[winning_dice_1v1[i]])"
   ]
  },
  {
   "cell_type": "markdown",
   "metadata": {},
   "source": [
    "These results confirm that the inner star cycle for 1v1 games is more likely to result in a win."
   ]
  },
  {
   "cell_type": "markdown",
   "metadata": {},
   "source": [
    "#### Miscellaneous Plotting Code as a reference"
   ]
  },
  {
   "cell_type": "code",
   "execution_count": 51,
   "metadata": {},
   "outputs": [],
   "source": [
    "# import matplotlib.pyplot as plt\n",
    "\n",
    "# # set up the figure\n",
    "# fig = plt.figure()\n",
    "# ax = fig.add_subplot(111)\n",
    "# ax.set_xlim(0,10)\n",
    "# ax.set_ylim(0,10)\n",
    "\n",
    "# # draw lines\n",
    "# xmin = 1\n",
    "# xmax = 9\n",
    "# y = 5\n",
    "# height = 1\n",
    "\n",
    "# plt.hlines(y, xmin, xmax)\n",
    "# plt.vlines(xmin, y - height / 2., y + height / 2.)\n",
    "# plt.vlines(xmax, y - height / 2., y + height / 2.)\n",
    "\n",
    "# # draw a point on the line\n",
    "# px = 4\n",
    "# plt.plot(px,y, 'ro', ms = 15, mfc = 'r')\n",
    "\n",
    "# # add an arrow\n",
    "# plt.annotate('Price five days ago', (px,y), xytext = (px - 1, y + 1), \n",
    "#               arrowprops=dict(facecolor='black', shrink=0.1), \n",
    "#               horizontalalignment='right')\n",
    "\n",
    "# # add numbers\n",
    "# plt.text(xmin - 0.1, y, '80', horizontalalignment='right')\n",
    "# plt.text(xmax + 0.1, y, '115', horizontalalignment='left')\n",
    "\n",
    "# plt.axis('off')\n",
    "# plt.show()"
   ]
  }
 ],
 "metadata": {
  "kernelspec": {
   "display_name": "Python 3",
   "language": "python",
   "name": "python3"
  },
  "language_info": {
   "codemirror_mode": {
    "name": "ipython",
    "version": 3
   },
   "file_extension": ".py",
   "mimetype": "text/x-python",
   "name": "python",
   "nbconvert_exporter": "python",
   "pygments_lexer": "ipython3",
   "version": "3.8.5"
  }
 },
 "nbformat": 4,
 "nbformat_minor": 4
}
